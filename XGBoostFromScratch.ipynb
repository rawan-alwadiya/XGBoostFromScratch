{
 "cells": [
  {
   "cell_type": "markdown",
   "id": "b0648d09-e783-42c6-983b-f9ca4734b5fc",
   "metadata": {},
   "source": [
    "# **XGBoostFromScratch: XGBoost from Scratch on Make Moons Dataset**\n",
    "\n",
    "## **Project Overview**\n",
    "\n",
    "**XGBoostFromScratch** is a machine learning project focused on implementing, evaluating, and deploying the **XGBoost algorithm entirely from scratch** without relying on scikit-learn’s built-in models.  \n",
    "The workflow covers **data exploration and visualization**, **custom implementation of XGBoost**, evaluation with **metrics coded from scratch**, and deployment through a **Streamlit web application**.\n",
    "\n",
    "## **Objective**\n",
    "\n",
    "Develop and deploy a gradient boosting model built from first principles to classify samples in the **Make Moons dataset**, demonstrating mastery of algorithmic foundations, end-to-end pipeline implementation, and interactive deployment.\n",
    "\n",
    "## **Dataset**\n",
    "\n",
    "- **Source**: [Make Moons Dataset (scikit-learn)](https://scikit-learn.org/stable/modules/generated/sklearn.datasets.make_moons.html) \n",
    "- **Samples**: 3000  \n",
    "- **Features**: 2 numerical features  \n",
    "- **Target**: Binary classification (two interleaving moon-shaped classes)  \n",
    "\n",
    "For the **Streamlit app**, feature names and target classes were **renamed for fun**:  \n",
    "- **X1 → Moon Position (horizontal position in the sky 🌌)**  \n",
    "- **X2 → Moon Glow (brightness or intensity ✨)**  \n",
    "- **Target → Happy 🌝 vs Sad 🌚 moon**\n",
    "\n",
    "## **Data Exploration & Visualization**\n",
    "\n",
    "- Conducted **exploratory data analysis (EDA)** on the generated dataset.  \n",
    "- Visualized the **two moon-shaped clusters** to confirm non-linear separability.  \n",
    "\n",
    "## **Modeling & Evaluation**\n",
    "\n",
    "Implemented and trained **XGBoost from scratch**:  \n",
    "- Core algorithm mechanics: gradient boosting framework, tree-based learners.  \n",
    "- Evaluation metrics were also coded **from scratch**, including:  \n",
    "  - **Accuracy**  \n",
    "  - **Precision**  \n",
    "  - **Recall**  \n",
    "  - **F1-score**  \n",
    "  - **Confusion Matrix**  \n",
    "  - **Classification Report**  \n",
    "\n",
    "**Performance Results** (XGBoost model):  \n",
    "- **Accuracy** = `0.92`  \n",
    "- **Precision** = `0.93`  \n",
    "- **Recall** = `0.92`  \n",
    "- **F1-score** = `0.92`  \n",
    "\n",
    "## **Deployment**\n",
    "\n",
    "A **[Streamlit web app](https://xgboostfromscratch-fqmnjkfdavi4rdgybk6yx6.streamlit.app/)** was developed, allowing users to adjust **moon position (X1)** and **moon glow (X2)** with sliders and predict whether the moon is **Happy 🌝** or **Sad 🌚** in real time.  \n",
    "\n",
    "This project demonstrates the **end-to-end implementation of XGBoost from scratch**, including custom evaluation metrics, dataset exploration, and a playful deployment experience.  \n",
    "\n",
    "Watch a short demo of the app here: [View on LinkedIn](https://www.linkedin.com/posts/rawan-alwadeya-17948a305_xgboostfromscratch-building-xgboost-from-activity-7363757736313966592-0Rsa?utm_source=share&utm_medium=member_desktop&rcm=ACoAAE3YzG0BAZw48kimDDr_guvq8zXgSjDgk_I)"
   ]
  },
  {
   "cell_type": "markdown",
   "id": "6066158b-e0bb-4545-9e53-c8ed367cd45b",
   "metadata": {},
   "source": [
    "#### **Import Necessary Libraries**"
   ]
  },
  {
   "cell_type": "code",
   "execution_count": 1,
   "id": "214919e0-59bc-4885-8fc9-64d483966a6b",
   "metadata": {},
   "outputs": [],
   "source": [
    "import numpy as np\n",
    "import pandas as pd\n",
    "import matplotlib.pyplot as plt\n",
    "import seaborn as sns\n",
    "%matplotlib inline\n",
    "sns.set()\n",
    "from sklearn.datasets import make_moons\n",
    "from sklearn.model_selection import train_test_split\n",
    "from sklearn.preprocessing import StandardScaler\n",
    "import joblib\n",
    "import warnings\n",
    "warnings.filterwarnings('ignore')"
   ]
  },
  {
   "cell_type": "markdown",
   "id": "b6233aae-4193-49c9-b8ea-e0855fa36747",
   "metadata": {},
   "source": [
    "#### **Dataset Loading**"
   ]
  },
  {
   "cell_type": "code",
   "execution_count": 2,
   "id": "670a3d03-cf5f-46de-9ebc-84bbc9098ac2",
   "metadata": {},
   "outputs": [],
   "source": [
    "X, y = make_moons(n_samples=3000, random_state=0)"
   ]
  },
  {
   "cell_type": "code",
   "execution_count": 3,
   "id": "88045c61-cfea-431a-b259-8696a4557105",
   "metadata": {},
   "outputs": [
    {
     "data": {
      "text/plain": [
       "array([[ 0.79499839,  0.60661154],\n",
       "       [-0.54583956,  0.83788972],\n",
       "       [ 0.01657683,  0.31867469],\n",
       "       ...,\n",
       "       [ 0.05097121,  0.1848106 ],\n",
       "       [ 1.68108669, -0.23220279],\n",
       "       [ 1.84747997, -0.03082737]])"
      ]
     },
     "execution_count": 3,
     "metadata": {},
     "output_type": "execute_result"
    }
   ],
   "source": [
    "X"
   ]
  },
  {
   "cell_type": "code",
   "execution_count": 4,
   "id": "ad6fc21b-e8ef-4ec0-8c73-649827273b77",
   "metadata": {},
   "outputs": [
    {
     "data": {
      "text/plain": [
       "array([0, 0, 1, ..., 1, 1, 1], dtype=int64)"
      ]
     },
     "execution_count": 4,
     "metadata": {},
     "output_type": "execute_result"
    }
   ],
   "source": [
    "y"
   ]
  },
  {
   "cell_type": "markdown",
   "id": "3c6de72f-685e-42bf-9a3e-9a34fd724c0b",
   "metadata": {},
   "source": [
    "#### **Data Exploration and Visualization**"
   ]
  },
  {
   "cell_type": "code",
   "execution_count": 5,
   "id": "a73552fa-4450-4c98-bc09-29e435380175",
   "metadata": {},
   "outputs": [
    {
     "data": {
      "text/html": [
       "<div>\n",
       "<style scoped>\n",
       "    .dataframe tbody tr th:only-of-type {\n",
       "        vertical-align: middle;\n",
       "    }\n",
       "\n",
       "    .dataframe tbody tr th {\n",
       "        vertical-align: top;\n",
       "    }\n",
       "\n",
       "    .dataframe thead th {\n",
       "        text-align: right;\n",
       "    }\n",
       "</style>\n",
       "<table border=\"1\" class=\"dataframe\">\n",
       "  <thead>\n",
       "    <tr style=\"text-align: right;\">\n",
       "      <th></th>\n",
       "      <th>X1</th>\n",
       "      <th>X2</th>\n",
       "    </tr>\n",
       "  </thead>\n",
       "  <tbody>\n",
       "    <tr>\n",
       "      <th>0</th>\n",
       "      <td>0.794998</td>\n",
       "      <td>0.606612</td>\n",
       "    </tr>\n",
       "    <tr>\n",
       "      <th>1</th>\n",
       "      <td>-0.545840</td>\n",
       "      <td>0.837890</td>\n",
       "    </tr>\n",
       "    <tr>\n",
       "      <th>2</th>\n",
       "      <td>0.016577</td>\n",
       "      <td>0.318675</td>\n",
       "    </tr>\n",
       "    <tr>\n",
       "      <th>3</th>\n",
       "      <td>1.992621</td>\n",
       "      <td>0.378743</td>\n",
       "    </tr>\n",
       "    <tr>\n",
       "      <th>4</th>\n",
       "      <td>1.999207</td>\n",
       "      <td>0.460190</td>\n",
       "    </tr>\n",
       "    <tr>\n",
       "      <th>...</th>\n",
       "      <td>...</td>\n",
       "      <td>...</td>\n",
       "    </tr>\n",
       "    <tr>\n",
       "      <th>2995</th>\n",
       "      <td>-0.028289</td>\n",
       "      <td>0.999600</td>\n",
       "    </tr>\n",
       "    <tr>\n",
       "      <th>2996</th>\n",
       "      <td>-0.178233</td>\n",
       "      <td>0.983988</td>\n",
       "    </tr>\n",
       "    <tr>\n",
       "      <th>2997</th>\n",
       "      <td>0.050971</td>\n",
       "      <td>0.184811</td>\n",
       "    </tr>\n",
       "    <tr>\n",
       "      <th>2998</th>\n",
       "      <td>1.681087</td>\n",
       "      <td>-0.232203</td>\n",
       "    </tr>\n",
       "    <tr>\n",
       "      <th>2999</th>\n",
       "      <td>1.847480</td>\n",
       "      <td>-0.030827</td>\n",
       "    </tr>\n",
       "  </tbody>\n",
       "</table>\n",
       "<p>3000 rows × 2 columns</p>\n",
       "</div>"
      ],
      "text/plain": [
       "            X1        X2\n",
       "0     0.794998  0.606612\n",
       "1    -0.545840  0.837890\n",
       "2     0.016577  0.318675\n",
       "3     1.992621  0.378743\n",
       "4     1.999207  0.460190\n",
       "...        ...       ...\n",
       "2995 -0.028289  0.999600\n",
       "2996 -0.178233  0.983988\n",
       "2997  0.050971  0.184811\n",
       "2998  1.681087 -0.232203\n",
       "2999  1.847480 -0.030827\n",
       "\n",
       "[3000 rows x 2 columns]"
      ]
     },
     "execution_count": 5,
     "metadata": {},
     "output_type": "execute_result"
    }
   ],
   "source": [
    "df = pd.DataFrame(X, columns= ['X1','X2'])\n",
    "df"
   ]
  },
  {
   "cell_type": "code",
   "execution_count": 6,
   "id": "9d737f2c-656b-4f5f-ae51-33c1f197ecb9",
   "metadata": {},
   "outputs": [
    {
     "data": {
      "text/html": [
       "<div>\n",
       "<style scoped>\n",
       "    .dataframe tbody tr th:only-of-type {\n",
       "        vertical-align: middle;\n",
       "    }\n",
       "\n",
       "    .dataframe tbody tr th {\n",
       "        vertical-align: top;\n",
       "    }\n",
       "\n",
       "    .dataframe thead th {\n",
       "        text-align: right;\n",
       "    }\n",
       "</style>\n",
       "<table border=\"1\" class=\"dataframe\">\n",
       "  <thead>\n",
       "    <tr style=\"text-align: right;\">\n",
       "      <th></th>\n",
       "      <th>X1</th>\n",
       "      <th>X2</th>\n",
       "      <th>Target</th>\n",
       "    </tr>\n",
       "  </thead>\n",
       "  <tbody>\n",
       "    <tr>\n",
       "      <th>0</th>\n",
       "      <td>0.794998</td>\n",
       "      <td>0.606612</td>\n",
       "      <td>0</td>\n",
       "    </tr>\n",
       "    <tr>\n",
       "      <th>1</th>\n",
       "      <td>-0.545840</td>\n",
       "      <td>0.837890</td>\n",
       "      <td>0</td>\n",
       "    </tr>\n",
       "    <tr>\n",
       "      <th>2</th>\n",
       "      <td>0.016577</td>\n",
       "      <td>0.318675</td>\n",
       "      <td>1</td>\n",
       "    </tr>\n",
       "    <tr>\n",
       "      <th>3</th>\n",
       "      <td>1.992621</td>\n",
       "      <td>0.378743</td>\n",
       "      <td>1</td>\n",
       "    </tr>\n",
       "    <tr>\n",
       "      <th>4</th>\n",
       "      <td>1.999207</td>\n",
       "      <td>0.460190</td>\n",
       "      <td>1</td>\n",
       "    </tr>\n",
       "    <tr>\n",
       "      <th>...</th>\n",
       "      <td>...</td>\n",
       "      <td>...</td>\n",
       "      <td>...</td>\n",
       "    </tr>\n",
       "    <tr>\n",
       "      <th>2995</th>\n",
       "      <td>-0.028289</td>\n",
       "      <td>0.999600</td>\n",
       "      <td>0</td>\n",
       "    </tr>\n",
       "    <tr>\n",
       "      <th>2996</th>\n",
       "      <td>-0.178233</td>\n",
       "      <td>0.983988</td>\n",
       "      <td>0</td>\n",
       "    </tr>\n",
       "    <tr>\n",
       "      <th>2997</th>\n",
       "      <td>0.050971</td>\n",
       "      <td>0.184811</td>\n",
       "      <td>1</td>\n",
       "    </tr>\n",
       "    <tr>\n",
       "      <th>2998</th>\n",
       "      <td>1.681087</td>\n",
       "      <td>-0.232203</td>\n",
       "      <td>1</td>\n",
       "    </tr>\n",
       "    <tr>\n",
       "      <th>2999</th>\n",
       "      <td>1.847480</td>\n",
       "      <td>-0.030827</td>\n",
       "      <td>1</td>\n",
       "    </tr>\n",
       "  </tbody>\n",
       "</table>\n",
       "<p>3000 rows × 3 columns</p>\n",
       "</div>"
      ],
      "text/plain": [
       "            X1        X2  Target\n",
       "0     0.794998  0.606612       0\n",
       "1    -0.545840  0.837890       0\n",
       "2     0.016577  0.318675       1\n",
       "3     1.992621  0.378743       1\n",
       "4     1.999207  0.460190       1\n",
       "...        ...       ...     ...\n",
       "2995 -0.028289  0.999600       0\n",
       "2996 -0.178233  0.983988       0\n",
       "2997  0.050971  0.184811       1\n",
       "2998  1.681087 -0.232203       1\n",
       "2999  1.847480 -0.030827       1\n",
       "\n",
       "[3000 rows x 3 columns]"
      ]
     },
     "execution_count": 6,
     "metadata": {},
     "output_type": "execute_result"
    }
   ],
   "source": [
    "df['Target'] = y\n",
    "df"
   ]
  },
  {
   "cell_type": "code",
   "execution_count": 7,
   "id": "4eb3e72a-1db2-4ed3-9ef5-ba2f698b48b6",
   "metadata": {},
   "outputs": [
    {
     "data": {
      "text/html": [
       "<div>\n",
       "<style scoped>\n",
       "    .dataframe tbody tr th:only-of-type {\n",
       "        vertical-align: middle;\n",
       "    }\n",
       "\n",
       "    .dataframe tbody tr th {\n",
       "        vertical-align: top;\n",
       "    }\n",
       "\n",
       "    .dataframe thead th {\n",
       "        text-align: right;\n",
       "    }\n",
       "</style>\n",
       "<table border=\"1\" class=\"dataframe\">\n",
       "  <thead>\n",
       "    <tr style=\"text-align: right;\">\n",
       "      <th></th>\n",
       "      <th>X1</th>\n",
       "      <th>X2</th>\n",
       "      <th>Target</th>\n",
       "    </tr>\n",
       "  </thead>\n",
       "  <tbody>\n",
       "    <tr>\n",
       "      <th>1366</th>\n",
       "      <td>0.991839</td>\n",
       "      <td>0.127495</td>\n",
       "      <td>0</td>\n",
       "    </tr>\n",
       "    <tr>\n",
       "      <th>841</th>\n",
       "      <td>1.999859</td>\n",
       "      <td>0.483234</td>\n",
       "      <td>1</td>\n",
       "    </tr>\n",
       "    <tr>\n",
       "      <th>2570</th>\n",
       "      <td>-0.912577</td>\n",
       "      <td>0.408905</td>\n",
       "      <td>0</td>\n",
       "    </tr>\n",
       "    <tr>\n",
       "      <th>2184</th>\n",
       "      <td>0.036886</td>\n",
       "      <td>0.230905</td>\n",
       "      <td>1</td>\n",
       "    </tr>\n",
       "    <tr>\n",
       "      <th>2252</th>\n",
       "      <td>1.423199</td>\n",
       "      <td>-0.406037</td>\n",
       "      <td>1</td>\n",
       "    </tr>\n",
       "    <tr>\n",
       "      <th>2218</th>\n",
       "      <td>1.719954</td>\n",
       "      <td>-0.194022</td>\n",
       "      <td>1</td>\n",
       "    </tr>\n",
       "    <tr>\n",
       "      <th>1527</th>\n",
       "      <td>1.458932</td>\n",
       "      <td>-0.388471</td>\n",
       "      <td>1</td>\n",
       "    </tr>\n",
       "    <tr>\n",
       "      <th>476</th>\n",
       "      <td>0.650223</td>\n",
       "      <td>-0.436833</td>\n",
       "      <td>1</td>\n",
       "    </tr>\n",
       "    <tr>\n",
       "      <th>1417</th>\n",
       "      <td>1.950342</td>\n",
       "      <td>0.188791</td>\n",
       "      <td>1</td>\n",
       "    </tr>\n",
       "    <tr>\n",
       "      <th>2419</th>\n",
       "      <td>0.585579</td>\n",
       "      <td>0.810615</td>\n",
       "      <td>0</td>\n",
       "    </tr>\n",
       "  </tbody>\n",
       "</table>\n",
       "</div>"
      ],
      "text/plain": [
       "            X1        X2  Target\n",
       "1366  0.991839  0.127495       0\n",
       "841   1.999859  0.483234       1\n",
       "2570 -0.912577  0.408905       0\n",
       "2184  0.036886  0.230905       1\n",
       "2252  1.423199 -0.406037       1\n",
       "2218  1.719954 -0.194022       1\n",
       "1527  1.458932 -0.388471       1\n",
       "476   0.650223 -0.436833       1\n",
       "1417  1.950342  0.188791       1\n",
       "2419  0.585579  0.810615       0"
      ]
     },
     "execution_count": 7,
     "metadata": {},
     "output_type": "execute_result"
    }
   ],
   "source": [
    "df.sample(10)"
   ]
  },
  {
   "cell_type": "code",
   "execution_count": 8,
   "id": "44218005-f581-4a1c-bdf5-9e3c074cb800",
   "metadata": {},
   "outputs": [
    {
     "name": "stdout",
     "output_type": "stream",
     "text": [
      "<class 'pandas.core.frame.DataFrame'>\n",
      "RangeIndex: 3000 entries, 0 to 2999\n",
      "Data columns (total 3 columns):\n",
      " #   Column  Non-Null Count  Dtype  \n",
      "---  ------  --------------  -----  \n",
      " 0   X1      3000 non-null   float64\n",
      " 1   X2      3000 non-null   float64\n",
      " 2   Target  3000 non-null   int64  \n",
      "dtypes: float64(2), int64(1)\n",
      "memory usage: 70.4 KB\n"
     ]
    }
   ],
   "source": [
    "df.info()"
   ]
  },
  {
   "cell_type": "code",
   "execution_count": 9,
   "id": "67852ca0-bf02-4ed4-aada-65cf71c651e1",
   "metadata": {},
   "outputs": [
    {
     "data": {
      "text/html": [
       "<div>\n",
       "<style scoped>\n",
       "    .dataframe tbody tr th:only-of-type {\n",
       "        vertical-align: middle;\n",
       "    }\n",
       "\n",
       "    .dataframe tbody tr th {\n",
       "        vertical-align: top;\n",
       "    }\n",
       "\n",
       "    .dataframe thead th {\n",
       "        text-align: right;\n",
       "    }\n",
       "</style>\n",
       "<table border=\"1\" class=\"dataframe\">\n",
       "  <thead>\n",
       "    <tr style=\"text-align: right;\">\n",
       "      <th></th>\n",
       "      <th>X1</th>\n",
       "      <th>X2</th>\n",
       "      <th>Target</th>\n",
       "    </tr>\n",
       "  </thead>\n",
       "  <tbody>\n",
       "    <tr>\n",
       "      <th>count</th>\n",
       "      <td>3000.000000</td>\n",
       "      <td>3000.000000</td>\n",
       "      <td>3000.000000</td>\n",
       "    </tr>\n",
       "    <tr>\n",
       "      <th>mean</th>\n",
       "      <td>0.500000</td>\n",
       "      <td>0.250000</td>\n",
       "      <td>0.500000</td>\n",
       "    </tr>\n",
       "    <tr>\n",
       "      <th>std</th>\n",
       "      <td>0.866362</td>\n",
       "      <td>0.494116</td>\n",
       "      <td>0.500083</td>\n",
       "    </tr>\n",
       "    <tr>\n",
       "      <th>min</th>\n",
       "      <td>-1.000000</td>\n",
       "      <td>-0.499999</td>\n",
       "      <td>0.000000</td>\n",
       "    </tr>\n",
       "    <tr>\n",
       "      <th>25%</th>\n",
       "      <td>-0.000262</td>\n",
       "      <td>-0.206365</td>\n",
       "      <td>0.000000</td>\n",
       "    </tr>\n",
       "    <tr>\n",
       "      <th>50%</th>\n",
       "      <td>0.500000</td>\n",
       "      <td>0.250000</td>\n",
       "      <td>0.500000</td>\n",
       "    </tr>\n",
       "    <tr>\n",
       "      <th>75%</th>\n",
       "      <td>1.000262</td>\n",
       "      <td>0.706365</td>\n",
       "      <td>1.000000</td>\n",
       "    </tr>\n",
       "    <tr>\n",
       "      <th>max</th>\n",
       "      <td>2.000000</td>\n",
       "      <td>0.999999</td>\n",
       "      <td>1.000000</td>\n",
       "    </tr>\n",
       "  </tbody>\n",
       "</table>\n",
       "</div>"
      ],
      "text/plain": [
       "                X1           X2       Target\n",
       "count  3000.000000  3000.000000  3000.000000\n",
       "mean      0.500000     0.250000     0.500000\n",
       "std       0.866362     0.494116     0.500083\n",
       "min      -1.000000    -0.499999     0.000000\n",
       "25%      -0.000262    -0.206365     0.000000\n",
       "50%       0.500000     0.250000     0.500000\n",
       "75%       1.000262     0.706365     1.000000\n",
       "max       2.000000     0.999999     1.000000"
      ]
     },
     "execution_count": 9,
     "metadata": {},
     "output_type": "execute_result"
    }
   ],
   "source": [
    "df.describe()"
   ]
  },
  {
   "cell_type": "code",
   "execution_count": 10,
   "id": "d6b1ed9f-0f9c-4ef8-8936-614488330b32",
   "metadata": {},
   "outputs": [
    {
     "data": {
      "text/plain": [
       "0"
      ]
     },
     "execution_count": 10,
     "metadata": {},
     "output_type": "execute_result"
    }
   ],
   "source": [
    "df.duplicated().sum()"
   ]
  },
  {
   "cell_type": "code",
   "execution_count": 11,
   "id": "44d7d443-72a4-401a-a481-3042d8f1227d",
   "metadata": {},
   "outputs": [
    {
     "data": {
      "text/plain": [
       "X1        0.0\n",
       "X2        0.0\n",
       "Target    0.0\n",
       "dtype: float64"
      ]
     },
     "execution_count": 11,
     "metadata": {},
     "output_type": "execute_result"
    }
   ],
   "source": [
    "df.skew()"
   ]
  },
  {
   "cell_type": "code",
   "execution_count": 12,
   "id": "20d7d25d-98ce-4614-bcc1-13643d3f07eb",
   "metadata": {},
   "outputs": [
    {
     "data": {
      "image/png": "[encoded data removed]",
      "text/plain": [
       "<Figure size 800x600 with 4 Axes>"
      ]
     },
     "metadata": {},
     "output_type": "display_data"
    }
   ],
   "source": [
    "sns.clustermap(df.corr(), annot=True, figsize=(8, 6))\n",
    "plt.show()"
   ]
  },
  {
   "cell_type": "code",
   "execution_count": 13,
   "id": "e74a3028-b806-4591-ba22-fbd56e942a16",
   "metadata": {},
   "outputs": [
    {
     "data": {
      "image/png": "[encoded data removed]",
      "text/plain": [
       "<Figure size 1200x700 with 4 Axes>"
      ]
     },
     "metadata": {},
     "output_type": "display_data"
    }
   ],
   "source": [
    "features = ['X1','X2']\n",
    "\n",
    "plt.figure(figsize=(12, len(features) * 3.5))\n",
    "\n",
    "for i, col in enumerate(features):\n",
    "    plt.subplot(len(features), 2, i * 2 + 1)\n",
    "    sns.histplot(df[col], kde=True, color='teal')\n",
    "    plt.title(f\"Distribution of {col}\")\n",
    "    plt.xlabel('')  \n",
    "    plt.ylabel('')\n",
    "\n",
    "    plt.subplot(len(features), 2, i * 2 + 2)\n",
    "    sns.boxplot(y=df[col], color='r')\n",
    "    plt.title(f\"Boxplot of {col}\")\n",
    "    plt.xlabel('')\n",
    "    plt.ylabel('')\n",
    "\n",
    "plt.tight_layout()\n",
    "plt.show()"
   ]
  },
  {
   "cell_type": "code",
   "execution_count": 14,
   "id": "83270061-fa9f-4c07-856c-628ca99c5250",
   "metadata": {},
   "outputs": [
    {
     "data": {
      "image/png": "[encoded data removed]",
      "text/plain": [
       "<Figure size 640x480 with 1 Axes>"
      ]
     },
     "metadata": {},
     "output_type": "display_data"
    }
   ],
   "source": [
    "sns.scatterplot(data=df, x='X1',y='X2', hue='Target')\n",
    "plt.show()"
   ]
  },
  {
   "cell_type": "code",
   "execution_count": 15,
   "id": "6db5369e-d7aa-422e-993a-a4855c31cd19",
   "metadata": {},
   "outputs": [
    {
     "data": {
      "text/plain": [
       "Target\n",
       "0    1500\n",
       "1    1500\n",
       "Name: count, dtype: int64"
      ]
     },
     "execution_count": 15,
     "metadata": {},
     "output_type": "execute_result"
    }
   ],
   "source": [
    "df['Target'].value_counts()"
   ]
  },
  {
   "cell_type": "code",
   "execution_count": 16,
   "id": "27c73a50-1bc7-44e1-a544-2bb2da16b8a6",
   "metadata": {},
   "outputs": [
    {
     "data": {
      "image/png": "[encoded data removed]",
      "text/plain": [
       "<Figure size 640x480 with 1 Axes>"
      ]
     },
     "metadata": {},
     "output_type": "display_data"
    }
   ],
   "source": [
    "sns.countplot(data = df, x='Target', palette='Set2')\n",
    "plt.show()"
   ]
  },
  {
   "cell_type": "markdown",
   "id": "9e6bff53-b71c-44f3-9eb2-72fb1f0135bb",
   "metadata": {},
   "source": [
    "### **Data Preprocessing**"
   ]
  },
  {
   "cell_type": "markdown",
   "id": "12c30cfa-0e6d-4a19-bec6-ebeca3654a4c",
   "metadata": {},
   "source": [
    "#### **Splitting Data into Training and Testing Sets**"
   ]
  },
  {
   "cell_type": "code",
   "execution_count": 17,
   "id": "e996b00a-6be3-4c19-8ba7-a5e8e60f569f",
   "metadata": {},
   "outputs": [],
   "source": [
    "X_train, X_test, y_train, y_test = train_test_split(X, y, test_size=0.2, random_state=0)"
   ]
  },
  {
   "cell_type": "code",
   "execution_count": 18,
   "id": "6afc610d-7de3-4ac1-89c3-71dc6d0f604a",
   "metadata": {},
   "outputs": [
    {
     "name": "stdout",
     "output_type": "stream",
     "text": [
      "X_train shape is:  (2400, 2)\n",
      "X_test shape is:  (600, 2)\n",
      "y_train shape is:  (2400,)\n",
      "y_test shape is:  (600,)\n"
     ]
    }
   ],
   "source": [
    "print('X_train shape is: ', X_train.shape)\n",
    "print('X_test shape is: ', X_test.shape)\n",
    "print('y_train shape is: ', y_train.shape)\n",
    "print('y_test shape is: ', y_test.shape)"
   ]
  },
  {
   "cell_type": "markdown",
   "id": "1866e854-a14b-46ae-b074-c10c9c42ce51",
   "metadata": {},
   "source": [
    "### **XGBoost from Scratch**"
   ]
  },
  {
   "cell_type": "code",
   "execution_count": 19,
   "id": "316524ce-859f-45f6-9d98-1361672fdebe",
   "metadata": {},
   "outputs": [],
   "source": [
    "class SimpleDecisionTree:\n",
    "    def __init__(self, max_depth=1):\n",
    "        self.max_depth = max_depth\n",
    "        self.feature_index = None\n",
    "        self.threshold = None\n",
    "        self.left_value = None\n",
    "        self.right_value = None\n",
    "\n",
    "    def fit(self, X, grad):\n",
    "        m, n = X.shape\n",
    "        best_loss = float('inf')\n",
    "        \n",
    "        \n",
    "        for j in range(n):\n",
    "            thresholds = np.unique(X[:, j])\n",
    "            for t in thresholds:\n",
    "                left_mask = X[:, j] <= t\n",
    "                right_mask = ~left_mask\n",
    "\n",
    "                if left_mask.sum() == 0 or right_mask.sum() == 0:\n",
    "                    continue\n",
    "\n",
    "                left_val = grad[left_mask].mean()\n",
    "                right_val = grad[right_mask].mean()\n",
    "\n",
    "                \n",
    "                loss = ((grad[left_mask] - left_val)**2).sum() + ((grad[right_mask] - right_val)**2).sum()\n",
    "\n",
    "                if loss < best_loss:\n",
    "                    best_loss = loss\n",
    "                    self.feature_index = j\n",
    "                    self.threshold = t\n",
    "                    self.left_value = left_val\n",
    "                    self.right_value = right_val\n",
    "\n",
    "    def predict(self, x):\n",
    "        if x[self.feature_index] <= self.threshold:\n",
    "            return self.left_value\n",
    "        else:\n",
    "            return self.right_value\n",
    "\n",
    "\n",
    "def softmax(logits):\n",
    "    exp_logits = np.exp(logits - np.max(logits, axis=1, keepdims=True))\n",
    "    return exp_logits / np.sum(exp_logits, axis=1, keepdims=True)\n",
    "\n",
    "\n",
    "class XGBoostScratch:\n",
    "    def __init__(self, n_rounds=10, lr=0.3):\n",
    "        self.n_rounds = n_rounds\n",
    "        self.lr = lr\n",
    "        self.trees = []\n",
    "        self.classes_ = None\n",
    "\n",
    "    def fit(self, X, y):\n",
    "        self.classes_ = np.unique(y)\n",
    "        K = len(self.classes_)\n",
    "\n",
    "        y_onehot = np.eye(K)[y]\n",
    "        logits = np.zeros((X.shape[0], K))\n",
    "\n",
    "        self.trees = [[] for _ in range(K)]\n",
    "\n",
    "        for _ in range(self.n_rounds):\n",
    "            probs = softmax(logits)\n",
    "\n",
    "            for k in range(K):\n",
    "                grad = probs[:, k] - y_onehot[:, k]   \n",
    "                tree = SimpleDecisionTree(max_depth=1)\n",
    "                tree.fit(X, grad)\n",
    "                update = np.array([tree.predict(x) for x in X])\n",
    "\n",
    "                logits[:, k] -= self.lr * update\n",
    "                self.trees[k].append(tree)\n",
    "\n",
    "    def predict(self, X):\n",
    "        logits = np.zeros((X.shape[0], len(self.classes_)))\n",
    "        for k, trees in enumerate(self.trees):\n",
    "            for tree in trees:\n",
    "                logits[:, k] -= self.lr * np.array([tree.predict(x) for x in X])\n",
    "        probs = softmax(logits)\n",
    "        return np.argmax(probs, axis=1)"
   ]
  },
  {
   "cell_type": "markdown",
   "id": "285ad8db-8978-46c3-b2fa-4404f20ab7bd",
   "metadata": {},
   "source": [
    "#### **Evaluation Metrics from Scratch**"
   ]
  },
  {
   "cell_type": "code",
   "execution_count": 20,
   "id": "3961ffee-63a5-4e83-8667-a3d1de44fe17",
   "metadata": {},
   "outputs": [],
   "source": [
    "def confusion_matrix(y_true, y_pred):\n",
    "    classes = np.unique(np.concatenate([y_true, y_pred]))\n",
    "    matrix = np.zeros((len(classes), len(classes)), dtype=int)\n",
    "    for true, pred in zip(y_true, y_pred):\n",
    "        matrix[true][pred] += 1\n",
    "    return matrix, classes\n",
    "\n",
    "\n",
    "def accuracy_score(y_true, y_pred):\n",
    "    return np.mean(y_true == y_pred)\n",
    "\n",
    "\n",
    "def precision_recall_f1(cm):\n",
    "    n_classes = cm.shape[0]\n",
    "    precision = []\n",
    "    recall = []\n",
    "    f1 = []\n",
    "\n",
    "    for i in range(n_classes):\n",
    "        TP = cm[i, i]\n",
    "        FP = cm[:, i].sum() - TP\n",
    "        FN = cm[i, :].sum() - TP\n",
    "\n",
    "        prec = TP / (TP + FP) if (TP + FP) > 0 else 0\n",
    "        rec  = TP / (TP + FN) if (TP + FN) > 0 else 0\n",
    "        f1_i = 2 * prec * rec / (prec + rec) if (prec + rec) > 0 else 0\n",
    "\n",
    "        precision.append(prec)\n",
    "        recall.append(rec)\n",
    "        f1.append(f1_i)\n",
    "\n",
    "    return precision, recall, f1\n",
    "\n",
    "\n",
    "def classification_report(y_true, y_pred):\n",
    "    cm, classes = confusion_matrix(y_true, y_pred)\n",
    "\n",
    "    report = \"Class | Precision | Recall | F1-score | Support\\n\"\n",
    "    report += \"-\"*50 + \"\\n\"\n",
    "\n",
    "    precisions, recalls, f1s, supports = [], [], [], []\n",
    "\n",
    "    for i, cls in enumerate(classes):\n",
    "        tp = cm[i, i]\n",
    "        fp = cm[:, i].sum() - tp\n",
    "        fn = cm[i, :].sum() - tp\n",
    "\n",
    "        precision = tp / (tp + fp) if (tp + fp) > 0 else 0\n",
    "        recall = tp / (tp + fn) if (tp + fn) > 0 else 0\n",
    "        f1 = (2 * precision * recall / (precision + recall)) if (precision + recall) > 0 else 0\n",
    "        support = cm[i, :].sum()\n",
    "\n",
    "        precisions.append(precision)\n",
    "        recalls.append(recall)\n",
    "        f1s.append(f1)\n",
    "        supports.append(support)\n",
    "\n",
    "        report += f\"{cls:5d} | {precision:9.2f} | {recall:6.2f} | {f1:8.2f} | {support:7d}\\n\"\n",
    "\n",
    "    report += \"-\"*50 + \"\\n\"\n",
    "    report += f\"Macro Avg | {np.mean(precisions):9.2f} | {np.mean(recalls):6.2f} | {np.mean(f1s):8.2f} | {np.sum(supports):7d}\\n\"\n",
    "\n",
    "    return report"
   ]
  },
  {
   "cell_type": "code",
   "execution_count": 21,
   "id": "a4fd5115-b167-4136-bc47-09b60e9d49c3",
   "metadata": {},
   "outputs": [],
   "source": [
    "model_names = []\n",
    "accuracy_result = []\n",
    "precision_result = []\n",
    "recall_result = []\n",
    "f1_result = []\n",
    "\n",
    "\n",
    "def evaluate_model(name, model, X_train, X_test, y_train, y_test):\n",
    "    model.fit(X_train, y_train)\n",
    "    y_pred = model.predict(X_test)\n",
    "\n",
    "    cm, classes = confusion_matrix(y_test, y_pred)\n",
    "    acc = accuracy_score(y_test, y_pred)\n",
    "    prec, rec, f1 = precision_recall_f1(cm)\n",
    "\n",
    "    model_names.append(name)\n",
    "    accuracy_result.append(acc)\n",
    "    precision_result.append(np.mean(prec))\n",
    "    recall_result.append(np.mean(rec))\n",
    "    f1_result.append(np.mean(f1))\n",
    "\n",
    "    print(f\"----- {name} -----\")\n",
    "    print(\"Accuracy:\", acc)\n",
    "    print(\"Precision:\", np.mean(prec))\n",
    "    print(\"Recall:\", np.mean(rec))\n",
    "    print(\"F1-score:\", np.mean(f1))\n",
    "    print(\"\\nClassification Report:\\n\", classification_report(y_test, y_pred))\n",
    "\n",
    "    print(\"\\nConfusion Matrix:\\n\", cm)\n",
    "\n",
    "    plt.figure(figsize=(5,4))\n",
    "    sns.heatmap(cm, annot=True, fmt='d', cmap='Blues',\n",
    "                xticklabels=classes, yticklabels=classes)\n",
    "    plt.xlabel(\"Predicted\")\n",
    "    plt.ylabel(\"True\")\n",
    "    plt.title(f\"Confusion Matrix - {name}\")\n",
    "    plt.show()"
   ]
  },
  {
   "cell_type": "markdown",
   "id": "418b0ceb-d8ab-4fc5-a1ee-62e2b2f0f015",
   "metadata": {},
   "source": [
    "#### **Training and Evaluating Models**"
   ]
  },
  {
   "cell_type": "code",
   "execution_count": 22,
   "id": "2ab66954-ad93-49c8-9751-f9f214c8f1d4",
   "metadata": {},
   "outputs": [],
   "source": [
    "model = XGBoostScratch(n_rounds=20, lr=0.3)"
   ]
  },
  {
   "cell_type": "code",
   "execution_count": 23,
   "id": "ec7f1a29-750f-4daa-9e20-43d4b1311e2d",
   "metadata": {},
   "outputs": [
    {
     "name": "stdout",
     "output_type": "stream",
     "text": [
      "----- XGBoost -----\n",
      "Accuracy: 0.92\n",
      "Precision: 0.9287833827893175\n",
      "Recall: 0.9228295819935691\n",
      "F1-score: 0.9198494951631397\n",
      "\n",
      "Classification Report:\n",
      " Class | Precision | Recall | F1-score | Support\n",
      "--------------------------------------------------\n",
      "    0 |      0.86 |   1.00 |     0.92 |     289\n",
      "    1 |      1.00 |   0.85 |     0.92 |     311\n",
      "--------------------------------------------------\n",
      "Macro Avg |      0.93 |   0.92 |     0.92 |     600\n",
      "\n",
      "\n",
      "Confusion Matrix:\n",
      " [[289   0]\n",
      " [ 48 263]]\n"
     ]
    },
    {
     "data": {
      "image/png": "[encoded data removed]",
      "text/plain": [
       "<Figure size 500x400 with 2 Axes>"
      ]
     },
     "metadata": {},
     "output_type": "display_data"
    }
   ],
   "source": [
    "evaluate_model('XGBoost', model, X_train, X_test, y_train, y_test)"
   ]
  },
  {
   "cell_type": "markdown",
   "id": "6e1ae7dd-f0f2-4fb3-b4e5-487be8857019",
   "metadata": {},
   "source": [
    "#### **Export Model and Preprocessing Pipeline**"
   ]
  },
  {
   "cell_type": "code",
   "execution_count": 25,
   "id": "9a0968ba-7775-4fa0-8056-cc5f995b97d6",
   "metadata": {},
   "outputs": [
    {
     "data": {
      "text/plain": [
       "['XGBoost.pkl']"
      ]
     },
     "execution_count": 25,
     "metadata": {},
     "output_type": "execute_result"
    }
   ],
   "source": [
    "joblib.dump(model, 'XGBoost.pkl')"
   ]
  },
  {
   "cell_type": "markdown",
   "id": "f926f1e3-0811-4ab5-8262-c34b274ade46",
   "metadata": {},
   "source": [
    "## **Final Thoughts**\n",
    "\n",
    "This project demonstrated the complete journey of **building, evaluating, and deploying XGBoost from scratch** on the challenging **Make Moons dataset**.  \n",
    "By coding the **core mechanics of gradient boosting and decision trees** without relying on external libraries, the project provided deeper insight into how boosting iteratively improves weak learners to form a strong classifier.  \n",
    "\n",
    "All evaluation metrics—**accuracy, precision, recall, F1-score, confusion matrix, and classification report**—were also implemented from scratch, reinforcing the understanding of how performance is measured beyond simple accuracy.  \n",
    "The custom-built XGBoost model achieved strong results, with an overall **accuracy of 92%**, balancing both precision and recall effectively.  \n",
    "\n",
    "To make the project engaging and interactive, the model was deployed as a **Streamlit web application**, where features and target classes were renamed playfully (🌌 Moon Position, ✨ Moon Glow, 🌝 Happy Moon, 🌚 Sad Moon). This makes the technical achievement accessible in a fun and creative way.  \n",
    "\n",
    "---\n",
    "\n",
    "**Thank you for exploring this project.**\n"
   ]
  }
 ],
 "metadata": {
  "kernelspec": {
   "display_name": "Python 3 (ipykernel)",
   "language": "python",
   "name": "python3"
  },
  "language_info": {
   "codemirror_mode": {
    "name": "ipython",
    "version": 3
   },
   "file_extension": ".py",
   "mimetype": "text/x-python",
   "name": "python",
   "nbconvert_exporter": "python",
   "pygments_lexer": "ipython3",
   "version": "3.12.7"
  }
 },
 "nbformat": 4,
 "nbformat_minor": 5
}
